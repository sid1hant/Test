{
  "nbformat": 4,
  "nbformat_minor": 0,
  "metadata": {
    "colab": {
      "name": "Untitled37.ipynb",
      "provenance": []
    },
    "kernelspec": {
      "name": "python3",
      "display_name": "Python 3"
    },
    "language_info": {
      "name": "python"
    }
  },
  "cells": [
    {
      "cell_type": "code",
      "execution_count": 1,
      "metadata": {
        "id": "Cl-Y29fulrLm"
      },
      "outputs": [],
      "source": [
        "import pandas as pd"
      ]
    },
    {
      "cell_type": "code",
      "source": [
        "from google.colab import drive\n",
        "drive.mount('/content/drive')"
      ],
      "metadata": {
        "colab": {
          "base_uri": "https://localhost:8080/"
        },
        "id": "-XqeXwPal07h",
        "outputId": "35063454-4c25-4243-c97e-78c80cc2379c"
      },
      "execution_count": 2,
      "outputs": [
        {
          "output_type": "stream",
          "name": "stdout",
          "text": [
            "Mounted at /content/drive\n"
          ]
        }
      ]
    },
    {
      "cell_type": "markdown",
      "source": [
        "# 1) Read the csv or excel file"
      ],
      "metadata": {
        "id": "nDCxhGgFmfZW"
      }
    },
    {
      "cell_type": "markdown",
      "source": [
        ""
      ],
      "metadata": {
        "id": "cMBNHhPMUaDx"
      }
    },
    {
      "cell_type": "code",
      "source": [
        "df=pd.read_csv(\"/content/drive/MyDrive/NIR/used_bikes.csv\")"
      ],
      "metadata": {
        "id": "3z_COswYl4Rm"
      },
      "execution_count": 3,
      "outputs": []
    },
    {
      "cell_type": "code",
      "source": [
        "df"
      ],
      "metadata": {
        "colab": {
          "base_uri": "https://localhost:8080/",
          "height": 424
        },
        "id": "5UAJa0sPmaN_",
        "outputId": "ec9cb07e-734c-437d-b7a5-7b57a6a1153a"
      },
      "execution_count": 4,
      "outputs": [
        {
          "output_type": "execute_result",
          "data": {
            "text/plain": [
              "                                bike_name     price       city  kms_driven  \\\n",
              "0      TVS Star City Plus Dual Tone 110cc   35000.0  Ahmedabad     17654.0   \n",
              "1             Royal Enfield Classic 350cc  119900.0      Delhi     11000.0   \n",
              "2                    Triumph Daytona 675R  600000.0      Delhi       110.0   \n",
              "3                    TVS Apache RTR 180cc   65000.0  Bangalore     16329.0   \n",
              "4    Yamaha FZ S V 2.0 150cc-Ltd. Edition   80000.0  Bangalore     10000.0   \n",
              "..                                    ...       ...        ...         ...   \n",
              "144          Royal Enfield Standard 350cc  115000.0  Hyderabad     14900.0   \n",
              "145             Honda CB Shine 125cc Disc   65000.0     Mumbai      2000.0   \n",
              "146            Honda CB Unicorn ABS 150cc   99000.0     Mumbai      4000.0   \n",
              "147              Yamaha YZF-R15 2.0 150cc   68500.0      Delhi     68500.0   \n",
              "148               Yamaha YZF-R15 V3 150cc  140000.0      Delhi      2473.0   \n",
              "\n",
              "            owner  age  power          brand  \n",
              "0     First Owner  3.0  110.0            TVS  \n",
              "1     First Owner  4.0  350.0  Royal Enfield  \n",
              "2     First Owner  8.0  675.0        Triumph  \n",
              "3     First Owner  4.0  180.0            TVS  \n",
              "4     First Owner  3.0  150.0         Yamaha  \n",
              "..            ...  ...    ...            ...  \n",
              "144   First Owner  3.0  350.0  Royal Enfield  \n",
              "145   First Owner  3.0  125.0          Honda  \n",
              "146   First Owner  2.0  150.0          Honda  \n",
              "147  Second Owner  7.0  150.0         Yamaha  \n",
              "148   First Owner  2.0  150.0         Yamaha  \n",
              "\n",
              "[149 rows x 8 columns]"
            ],
            "text/html": [
              "\n",
              "  <div id=\"df-9ff8873e-c93d-480b-b2be-cad96ff2dd31\">\n",
              "    <div class=\"colab-df-container\">\n",
              "      <div>\n",
              "<style scoped>\n",
              "    .dataframe tbody tr th:only-of-type {\n",
              "        vertical-align: middle;\n",
              "    }\n",
              "\n",
              "    .dataframe tbody tr th {\n",
              "        vertical-align: top;\n",
              "    }\n",
              "\n",
              "    .dataframe thead th {\n",
              "        text-align: right;\n",
              "    }\n",
              "</style>\n",
              "<table border=\"1\" class=\"dataframe\">\n",
              "  <thead>\n",
              "    <tr style=\"text-align: right;\">\n",
              "      <th></th>\n",
              "      <th>bike_name</th>\n",
              "      <th>price</th>\n",
              "      <th>city</th>\n",
              "      <th>kms_driven</th>\n",
              "      <th>owner</th>\n",
              "      <th>age</th>\n",
              "      <th>power</th>\n",
              "      <th>brand</th>\n",
              "    </tr>\n",
              "  </thead>\n",
              "  <tbody>\n",
              "    <tr>\n",
              "      <th>0</th>\n",
              "      <td>TVS Star City Plus Dual Tone 110cc</td>\n",
              "      <td>35000.0</td>\n",
              "      <td>Ahmedabad</td>\n",
              "      <td>17654.0</td>\n",
              "      <td>First Owner</td>\n",
              "      <td>3.0</td>\n",
              "      <td>110.0</td>\n",
              "      <td>TVS</td>\n",
              "    </tr>\n",
              "    <tr>\n",
              "      <th>1</th>\n",
              "      <td>Royal Enfield Classic 350cc</td>\n",
              "      <td>119900.0</td>\n",
              "      <td>Delhi</td>\n",
              "      <td>11000.0</td>\n",
              "      <td>First Owner</td>\n",
              "      <td>4.0</td>\n",
              "      <td>350.0</td>\n",
              "      <td>Royal Enfield</td>\n",
              "    </tr>\n",
              "    <tr>\n",
              "      <th>2</th>\n",
              "      <td>Triumph Daytona 675R</td>\n",
              "      <td>600000.0</td>\n",
              "      <td>Delhi</td>\n",
              "      <td>110.0</td>\n",
              "      <td>First Owner</td>\n",
              "      <td>8.0</td>\n",
              "      <td>675.0</td>\n",
              "      <td>Triumph</td>\n",
              "    </tr>\n",
              "    <tr>\n",
              "      <th>3</th>\n",
              "      <td>TVS Apache RTR 180cc</td>\n",
              "      <td>65000.0</td>\n",
              "      <td>Bangalore</td>\n",
              "      <td>16329.0</td>\n",
              "      <td>First Owner</td>\n",
              "      <td>4.0</td>\n",
              "      <td>180.0</td>\n",
              "      <td>TVS</td>\n",
              "    </tr>\n",
              "    <tr>\n",
              "      <th>4</th>\n",
              "      <td>Yamaha FZ S V 2.0 150cc-Ltd. Edition</td>\n",
              "      <td>80000.0</td>\n",
              "      <td>Bangalore</td>\n",
              "      <td>10000.0</td>\n",
              "      <td>First Owner</td>\n",
              "      <td>3.0</td>\n",
              "      <td>150.0</td>\n",
              "      <td>Yamaha</td>\n",
              "    </tr>\n",
              "    <tr>\n",
              "      <th>...</th>\n",
              "      <td>...</td>\n",
              "      <td>...</td>\n",
              "      <td>...</td>\n",
              "      <td>...</td>\n",
              "      <td>...</td>\n",
              "      <td>...</td>\n",
              "      <td>...</td>\n",
              "      <td>...</td>\n",
              "    </tr>\n",
              "    <tr>\n",
              "      <th>144</th>\n",
              "      <td>Royal Enfield Standard 350cc</td>\n",
              "      <td>115000.0</td>\n",
              "      <td>Hyderabad</td>\n",
              "      <td>14900.0</td>\n",
              "      <td>First Owner</td>\n",
              "      <td>3.0</td>\n",
              "      <td>350.0</td>\n",
              "      <td>Royal Enfield</td>\n",
              "    </tr>\n",
              "    <tr>\n",
              "      <th>145</th>\n",
              "      <td>Honda CB Shine 125cc Disc</td>\n",
              "      <td>65000.0</td>\n",
              "      <td>Mumbai</td>\n",
              "      <td>2000.0</td>\n",
              "      <td>First Owner</td>\n",
              "      <td>3.0</td>\n",
              "      <td>125.0</td>\n",
              "      <td>Honda</td>\n",
              "    </tr>\n",
              "    <tr>\n",
              "      <th>146</th>\n",
              "      <td>Honda CB Unicorn ABS 150cc</td>\n",
              "      <td>99000.0</td>\n",
              "      <td>Mumbai</td>\n",
              "      <td>4000.0</td>\n",
              "      <td>First Owner</td>\n",
              "      <td>2.0</td>\n",
              "      <td>150.0</td>\n",
              "      <td>Honda</td>\n",
              "    </tr>\n",
              "    <tr>\n",
              "      <th>147</th>\n",
              "      <td>Yamaha YZF-R15 2.0 150cc</td>\n",
              "      <td>68500.0</td>\n",
              "      <td>Delhi</td>\n",
              "      <td>68500.0</td>\n",
              "      <td>Second Owner</td>\n",
              "      <td>7.0</td>\n",
              "      <td>150.0</td>\n",
              "      <td>Yamaha</td>\n",
              "    </tr>\n",
              "    <tr>\n",
              "      <th>148</th>\n",
              "      <td>Yamaha YZF-R15 V3 150cc</td>\n",
              "      <td>140000.0</td>\n",
              "      <td>Delhi</td>\n",
              "      <td>2473.0</td>\n",
              "      <td>First Owner</td>\n",
              "      <td>2.0</td>\n",
              "      <td>150.0</td>\n",
              "      <td>Yamaha</td>\n",
              "    </tr>\n",
              "  </tbody>\n",
              "</table>\n",
              "<p>149 rows × 8 columns</p>\n",
              "</div>\n",
              "      <button class=\"colab-df-convert\" onclick=\"convertToInteractive('df-9ff8873e-c93d-480b-b2be-cad96ff2dd31')\"\n",
              "              title=\"Convert this dataframe to an interactive table.\"\n",
              "              style=\"display:none;\">\n",
              "        \n",
              "  <svg xmlns=\"http://www.w3.org/2000/svg\" height=\"24px\"viewBox=\"0 0 24 24\"\n",
              "       width=\"24px\">\n",
              "    <path d=\"M0 0h24v24H0V0z\" fill=\"none\"/>\n",
              "    <path d=\"M18.56 5.44l.94 2.06.94-2.06 2.06-.94-2.06-.94-.94-2.06-.94 2.06-2.06.94zm-11 1L8.5 8.5l.94-2.06 2.06-.94-2.06-.94L8.5 2.5l-.94 2.06-2.06.94zm10 10l.94 2.06.94-2.06 2.06-.94-2.06-.94-.94-2.06-.94 2.06-2.06.94z\"/><path d=\"M17.41 7.96l-1.37-1.37c-.4-.4-.92-.59-1.43-.59-.52 0-1.04.2-1.43.59L10.3 9.45l-7.72 7.72c-.78.78-.78 2.05 0 2.83L4 21.41c.39.39.9.59 1.41.59.51 0 1.02-.2 1.41-.59l7.78-7.78 2.81-2.81c.8-.78.8-2.07 0-2.86zM5.41 20L4 18.59l7.72-7.72 1.47 1.35L5.41 20z\"/>\n",
              "  </svg>\n",
              "      </button>\n",
              "      \n",
              "  <style>\n",
              "    .colab-df-container {\n",
              "      display:flex;\n",
              "      flex-wrap:wrap;\n",
              "      gap: 12px;\n",
              "    }\n",
              "\n",
              "    .colab-df-convert {\n",
              "      background-color: #E8F0FE;\n",
              "      border: none;\n",
              "      border-radius: 50%;\n",
              "      cursor: pointer;\n",
              "      display: none;\n",
              "      fill: #1967D2;\n",
              "      height: 32px;\n",
              "      padding: 0 0 0 0;\n",
              "      width: 32px;\n",
              "    }\n",
              "\n",
              "    .colab-df-convert:hover {\n",
              "      background-color: #E2EBFA;\n",
              "      box-shadow: 0px 1px 2px rgba(60, 64, 67, 0.3), 0px 1px 3px 1px rgba(60, 64, 67, 0.15);\n",
              "      fill: #174EA6;\n",
              "    }\n",
              "\n",
              "    [theme=dark] .colab-df-convert {\n",
              "      background-color: #3B4455;\n",
              "      fill: #D2E3FC;\n",
              "    }\n",
              "\n",
              "    [theme=dark] .colab-df-convert:hover {\n",
              "      background-color: #434B5C;\n",
              "      box-shadow: 0px 1px 3px 1px rgba(0, 0, 0, 0.15);\n",
              "      filter: drop-shadow(0px 1px 2px rgba(0, 0, 0, 0.3));\n",
              "      fill: #FFFFFF;\n",
              "    }\n",
              "  </style>\n",
              "\n",
              "      <script>\n",
              "        const buttonEl =\n",
              "          document.querySelector('#df-9ff8873e-c93d-480b-b2be-cad96ff2dd31 button.colab-df-convert');\n",
              "        buttonEl.style.display =\n",
              "          google.colab.kernel.accessAllowed ? 'block' : 'none';\n",
              "\n",
              "        async function convertToInteractive(key) {\n",
              "          const element = document.querySelector('#df-9ff8873e-c93d-480b-b2be-cad96ff2dd31');\n",
              "          const dataTable =\n",
              "            await google.colab.kernel.invokeFunction('convertToInteractive',\n",
              "                                                     [key], {});\n",
              "          if (!dataTable) return;\n",
              "\n",
              "          const docLinkHtml = 'Like what you see? Visit the ' +\n",
              "            '<a target=\"_blank\" href=https://colab.research.google.com/notebooks/data_table.ipynb>data table notebook</a>'\n",
              "            + ' to learn more about interactive tables.';\n",
              "          element.innerHTML = '';\n",
              "          dataTable['output_type'] = 'display_data';\n",
              "          await google.colab.output.renderOutput(dataTable, element);\n",
              "          const docLink = document.createElement('div');\n",
              "          docLink.innerHTML = docLinkHtml;\n",
              "          element.appendChild(docLink);\n",
              "        }\n",
              "      </script>\n",
              "    </div>\n",
              "  </div>\n",
              "  "
            ]
          },
          "metadata": {},
          "execution_count": 4
        }
      ]
    },
    {
      "cell_type": "markdown",
      "source": [
        "# 2) Change the datatypes of the column and check the memory usage before and after the change in the data types."
      ],
      "metadata": {
        "id": "f4ILAWYroYJm"
      }
    },
    {
      "cell_type": "code",
      "source": [
        "df.info()"
      ],
      "metadata": {
        "colab": {
          "base_uri": "https://localhost:8080/"
        },
        "id": "X7VxxwOAmbHA",
        "outputId": "3a9c2123-dd2e-4bed-b0b2-90132cf638f7"
      },
      "execution_count": 5,
      "outputs": [
        {
          "output_type": "stream",
          "name": "stdout",
          "text": [
            "<class 'pandas.core.frame.DataFrame'>\n",
            "RangeIndex: 149 entries, 0 to 148\n",
            "Data columns (total 8 columns):\n",
            " #   Column      Non-Null Count  Dtype  \n",
            "---  ------      --------------  -----  \n",
            " 0   bike_name   149 non-null    object \n",
            " 1   price       149 non-null    float64\n",
            " 2   city        149 non-null    object \n",
            " 3   kms_driven  149 non-null    float64\n",
            " 4   owner       149 non-null    object \n",
            " 5   age         149 non-null    float64\n",
            " 6   power       149 non-null    float64\n",
            " 7   brand       149 non-null    object \n",
            "dtypes: float64(4), object(4)\n",
            "memory usage: 9.4+ KB\n"
          ]
        }
      ]
    },
    {
      "cell_type": "code",
      "source": [
        "df[\"age\"].memory_usage(index=False,deep=True)"
      ],
      "metadata": {
        "colab": {
          "base_uri": "https://localhost:8080/"
        },
        "id": "_wyqK0_Omu5n",
        "outputId": "05bd18eb-1324-4d88-ed00-abded02845fb"
      },
      "execution_count": 6,
      "outputs": [
        {
          "output_type": "execute_result",
          "data": {
            "text/plain": [
              "1192"
            ]
          },
          "metadata": {},
          "execution_count": 6
        }
      ]
    },
    {
      "cell_type": "markdown",
      "source": [
        "To know whether a smaller datatype would sufficient enough to accomodate the data in age column, let’s see the maximum and minimum values of this column."
      ],
      "metadata": {
        "id": "GYbgxezqnR7m"
      }
    },
    {
      "cell_type": "code",
      "source": [
        "max_age=df[\"age\"].max()\n",
        "min_age=df[\"age\"].min()\n",
        "print(max_age)\n",
        "print(min_age)"
      ],
      "metadata": {
        "colab": {
          "base_uri": "https://localhost:8080/"
        },
        "id": "M3gm1dWwnNgs",
        "outputId": "7018fdd7-a394-4559-945b-2f3b771e3f3b"
      },
      "execution_count": 8,
      "outputs": [
        {
          "output_type": "stream",
          "name": "stdout",
          "text": [
            "16.0\n",
            "1.0\n"
          ]
        }
      ]
    },
    {
      "cell_type": "markdown",
      "source": [
        "Since the column only consists of positive values with the max 16 , we can easily downcast the datatype to float16 without losing any information."
      ],
      "metadata": {
        "id": "YLZzVzBAoQTp"
      }
    },
    {
      "cell_type": "code",
      "source": [
        "df[\"age\"]=df[\"age\"].astype(\"float16\")\n",
        "df[\"age\"].memory_usage(index=False,deep=True)"
      ],
      "metadata": {
        "colab": {
          "base_uri": "https://localhost:8080/"
        },
        "id": "D8D4r-zXntJx",
        "outputId": "31535619-5184-4506-a809-75161522c918"
      },
      "execution_count": 9,
      "outputs": [
        {
          "output_type": "execute_result",
          "data": {
            "text/plain": [
              "298"
            ]
          },
          "metadata": {},
          "execution_count": 9
        }
      ]
    },
    {
      "cell_type": "code",
      "source": [
        "# For Categorical Columns\n",
        "df[\"city\"].value_counts()"
      ],
      "metadata": {
        "colab": {
          "base_uri": "https://localhost:8080/"
        },
        "id": "YVlpE1kloN6c",
        "outputId": "15ea6ebb-c7c6-46d6-ecf6-852ceca3409b"
      },
      "execution_count": 11,
      "outputs": [
        {
          "output_type": "execute_result",
          "data": {
            "text/plain": [
              "Delhi            37\n",
              "Bangalore        36\n",
              "Mumbai           19\n",
              "Hyderabad         6\n",
              "Ahmedabad         4\n",
              "Vadodara          3\n",
              "Ernakulam         3\n",
              "Pune              3\n",
              "Noida             3\n",
              "Chennai           2\n",
              "Faridabad         2\n",
              "Gurgaon           2\n",
              "Gorakhpur         2\n",
              "Jaipur            2\n",
              "Jalandhar         1\n",
              "Surat             1\n",
              "Thrissur          1\n",
              "Navi Mumbai       1\n",
              "Gandhidham        1\n",
              "Visakhapatnam     1\n",
              "Agra              1\n",
              "Kolkata           1\n",
              "Barasat           1\n",
              "Dharwad           1\n",
              "Karnal            1\n",
              "Baripara          1\n",
              "Bagalkot          1\n",
              "Hosur             1\n",
              "Vidisha           1\n",
              "Lucknow           1\n",
              "Nadiad            1\n",
              "Samastipur        1\n",
              "Allahabad         1\n",
              "Kochi             1\n",
              "Nashik            1\n",
              "Kaithal           1\n",
              "Mettur            1\n",
              "Kalyan            1\n",
              "Ghaziabad         1\n",
              "Name: city, dtype: int64"
            ]
          },
          "metadata": {},
          "execution_count": 11
        }
      ]
    },
    {
      "cell_type": "markdown",
      "source": [
        "There are only limited  unique values,. In such cases where there are a limited number of values, we can use a more compact datatype called Categorical dtype."
      ],
      "metadata": {
        "id": "o25K1zvCsoWi"
      }
    },
    {
      "cell_type": "code",
      "source": [
        "df[\"city\"].memory_usage(index=False,deep=True)"
      ],
      "metadata": {
        "colab": {
          "base_uri": "https://localhost:8080/"
        },
        "id": "Tmz7nBLLrBaO",
        "outputId": "db51f3c2-6f02-49fb-d935-39c33b753bbe"
      },
      "execution_count": 12,
      "outputs": [
        {
          "output_type": "execute_result",
          "data": {
            "text/plain": [
              "9546"
            ]
          },
          "metadata": {},
          "execution_count": 12
        }
      ]
    },
    {
      "cell_type": "markdown",
      "source": [
        "If we were to downcast the object type to categorical dtype, the decrease in memory usage would be as follows:"
      ],
      "metadata": {
        "id": "znBymz1btRfN"
      }
    },
    {
      "cell_type": "code",
      "source": [
        "df[\"city\"]=df[\"city\"].astype(\"category\")\n",
        "df[\"city\"].memory_usage(index=False,deep=True)"
      ],
      "metadata": {
        "colab": {
          "base_uri": "https://localhost:8080/"
        },
        "id": "kcdqhSV9s5S-",
        "outputId": "f71eaa88-75a6-4fed-c68b-548ba8d29d54"
      },
      "execution_count": 16,
      "outputs": [
        {
          "output_type": "execute_result",
          "data": {
            "text/plain": [
              "3732"
            ]
          },
          "metadata": {},
          "execution_count": 16
        }
      ]
    },
    {
      "cell_type": "markdown",
      "source": [
        "# 3) Dump the data into the mysql database.\n"
      ],
      "metadata": {
        "id": "TTxaEN-1UhO0"
      }
    },
    {
      "cell_type": "code",
      "source": [
        "pip install mysql"
      ],
      "metadata": {
        "colab": {
          "base_uri": "https://localhost:8080/"
        },
        "id": "NgQwVaHbYL_1",
        "outputId": "d73cff15-805c-4622-82f7-813ca237bad6"
      },
      "execution_count": 20,
      "outputs": [
        {
          "output_type": "stream",
          "name": "stdout",
          "text": [
            "Looking in indexes: https://pypi.org/simple, https://us-python.pkg.dev/colab-wheels/public/simple/\n",
            "Collecting mysql\n",
            "  Downloading mysql-0.0.3-py3-none-any.whl (1.2 kB)\n",
            "Collecting mysqlclient\n",
            "  Downloading mysqlclient-2.1.0.tar.gz (87 kB)\n",
            "\u001b[K     |████████████████████████████████| 87 kB 4.7 MB/s \n",
            "\u001b[?25hBuilding wheels for collected packages: mysqlclient\n",
            "  Building wheel for mysqlclient (setup.py) ... \u001b[?25l\u001b[?25hdone\n",
            "  Created wheel for mysqlclient: filename=mysqlclient-2.1.0-cp37-cp37m-linux_x86_64.whl size=99959 sha256=6a27a050b645ecf54aeffde4ebe7877cb38c1a2ed61ea18824be108932507f4f\n",
            "  Stored in directory: /root/.cache/pip/wheels/97/d4/df/08cd6e1fa4a8691b268ab254bd0fa589827ab5b65638c010b4\n",
            "Successfully built mysqlclient\n",
            "Installing collected packages: mysqlclient, mysql\n",
            "Successfully installed mysql-0.0.3 mysqlclient-2.1.0\n"
          ]
        }
      ]
    },
    {
      "cell_type": "code",
      "source": [
        "pip install mysql-connector-python"
      ],
      "metadata": {
        "colab": {
          "base_uri": "https://localhost:8080/"
        },
        "id": "tlpGn9plYetW",
        "outputId": "1320aa8f-a852-447a-d5ad-69f4084ff9f0"
      },
      "execution_count": 23,
      "outputs": [
        {
          "output_type": "stream",
          "name": "stdout",
          "text": [
            "Looking in indexes: https://pypi.org/simple, https://us-python.pkg.dev/colab-wheels/public/simple/\n",
            "Requirement already satisfied: mysql-connector-python in /usr/local/lib/python3.7/dist-packages (8.0.29)\n",
            "Requirement already satisfied: protobuf>=3.0.0 in /usr/local/lib/python3.7/dist-packages (from mysql-connector-python) (3.17.3)\n",
            "Requirement already satisfied: six>=1.9 in /usr/local/lib/python3.7/dist-packages (from protobuf>=3.0.0->mysql-connector-python) (1.15.0)\n"
          ]
        }
      ]
    },
    {
      "cell_type": "code",
      "source": [
        "import mysql.connector as msql\n",
        "from mysql.connector import Error\n",
        "conn = msql.connect(host='localhost', user='HR',  \n",
        "                        password='HR')\n",
        "if conn.is_connected():\n",
        "        cursor = conn.cursor()\n",
        "        cursor.execute(\"CREATE DATABASE dummy\")\n",
        "\n"
      ],
      "metadata": {
        "id": "w87bGeEgYWFF"
      },
      "execution_count": null,
      "outputs": []
    },
    {
      "cell_type": "code",
      "source": [
        "import mysql.connector as msql\n",
        "from mysql.connector import Error\n",
        "\n",
        "conn = mysql.connect(host='localhost', database='dummy', user='HR', password='HR')\n",
        "if conn.is_connected():\n",
        "        cursor = conn.cursor()\n",
        "        cursor.execute(\"select database();\")\n",
        "        record = cursor.fetchone()\n",
        "        cursor.execute('DROP TABLE IF EXISTS dummy;')\n",
        "        cursor.execute(\"CREATE TABLE dummy_data(bike_name varchar(255),price int,city varchar(50),kms_driven int,owner varchar(50),age int,power int,brand varchar(50))\")\n",
        "        for i,row in dummy_data.iterrows():\n",
        "            sql = \"INSERT INTO dummy.dummy_data VALUES (%s,%s,%s,%s,%s,%s,%s,%s)\"\n",
        "            cursor.execute(sql, tuple(row))\n",
        "            conn.commit()\n"
      ],
      "metadata": {
        "id": "y2WK1boXYI-q"
      },
      "execution_count": null,
      "outputs": []
    },
    {
      "cell_type": "code",
      "source": [
        ""
      ],
      "metadata": {
        "id": "aI2-w87WZVTA"
      },
      "execution_count": null,
      "outputs": []
    }
  ]
}